{
  "nbformat": 4,
  "nbformat_minor": 0,
  "metadata": {
    "colab": {
      "provenance": []
    },
    "kernelspec": {
      "name": "python3",
      "display_name": "Python 3"
    },
    "language_info": {
      "name": "python"
    }
  },
  "cells": [
    {
      "cell_type": "code",
      "execution_count": null,
      "metadata": {
        "id": "VDs43vG_uOWd"
      },
      "outputs": [],
      "source": [
        "#Importing the Keras libraries and packages\n",
        "from tensorflow.keras.models import load_model\n",
        "from PIL import Image #used for manipulating image uploaded by the user.\n",
        "import numpy as np #used for numerrical analysis\n",
        "model = load_model(r'C:\\Users\\Dell\\PycharmProjects\\A-novel-method-for-digit-recognition-system\\models\\mnistCNN.h5')"
      ]
    },
    {
      "cell_type": "code",
      "source": [
        "img = Image.open('data/mnist-dataset-9.png').convert(\"L\") # convert image to monochrome\n",
        "img = img.resize( (28, 28) ) # resizing of input image\n",
        "im2arr = np.array(img) #converting to image\n",
        "im2arr = im2arr.reshape(1, 28, 28, 1) #reshaping according to our requirement"
      ],
      "metadata": {
        "id": "CEJvsN98utoL"
      },
      "execution_count": null,
      "outputs": []
    },
    {
      "cell_type": "code",
      "source": [
        "# Predicting the Test set results\n",
        "y_pred = model.predict(im2arr) #predicting the results\n",
        "print(y_pred)"
      ],
      "metadata": {
        "id": "Y_N94XhfuwDO"
      },
      "execution_count": null,
      "outputs": []
    },
    {
      "cell_type": "markdown",
      "source": [
        "1/1 [==============================] - 0s 16ms/step\n",
        "[[6.4446344e-06 3.2608074e-07 1.1842946e-08 2.8603116e-02 1.8055276e-03\n",
        "  1.3790357e-06 4.7502824e-09 1.9600012e-04 2.0712865e-05 9.6936649e-01]]"
      ],
      "metadata": {
        "id": "Kaq9QMD8vCAY"
      }
    },
    {
      "cell_type": "code",
      "source": [
        "import numpy as np\n",
        "print(np.argmax(y_pred, axis=1)) #printing our Labels from first 4 images"
      ],
      "metadata": {
        "id": "NlksmKY1uy5t"
      },
      "execution_count": null,
      "outputs": []
    },
    {
      "cell_type": "markdown",
      "source": [
        "[9]"
      ],
      "metadata": {
        "id": "JyW-_N1Iu96C"
      }
    }
  ]
}