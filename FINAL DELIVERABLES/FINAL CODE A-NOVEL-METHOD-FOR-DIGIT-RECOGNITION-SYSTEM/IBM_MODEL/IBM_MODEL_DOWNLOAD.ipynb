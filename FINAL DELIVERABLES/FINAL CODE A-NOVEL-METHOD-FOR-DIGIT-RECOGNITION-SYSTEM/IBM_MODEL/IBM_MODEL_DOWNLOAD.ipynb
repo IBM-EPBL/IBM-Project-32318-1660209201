{
  "nbformat": 4,
  "nbformat_minor": 0,
  "metadata": {
    "colab": {
      "provenance": []
    },
    "kernelspec": {
      "name": "python3",
      "display_name": "Python 3"
    },
    "language_info": {
      "name": "python"
    }
  },
  "cells": [
    {
      "cell_type": "code",
      "execution_count": null,
      "metadata": {
        "id": "2p-aEVfhKmDB"
      },
      "outputs": [],
      "source": [
        "from ibm_watson_machine_learning import APIClient\n",
        "credentials ={\n",
        "    \"url\":\"https://jp-tok.ml.cloud.ibm.com\",\n",
        "    \"apikey\":\"BHyalu2c7JN6n9cnvAVULvSKRYFVLMQ_m51toZ9Yk0nS\"\n",
        "}\n",
        "client = APIClient(credentials)"
      ]
    },
    {
      "cell_type": "code",
      "source": [
        "def guid_from_space_name(client,deploy):\n",
        "  space = client.spaces.get_details()\n",
        "  return (next(item for item in space['resources'] if item['entity']['name']==deploy)['metadata']['id'])"
      ],
      "metadata": {
        "id": "4FZ-D5_4Ks-k"
      },
      "execution_count": 2,
      "outputs": []
    },
    {
      "cell_type": "code",
      "source": [
        "space_uid = guid_from_space_name(client,'digitrecognition')\n",
        "print(\"Space UID = \" + space_uid)"
      ],
      "metadata": {
        "id": "uACdfSvzK_PP"
      },
      "execution_count": null,
      "outputs": []
    },
    {
      "cell_type": "markdown",
      "source": [
        "Space UID = aa24227a-9f01-493f-90e6-1b6132057fc6"
      ],
      "metadata": {
        "id": "I9pCaOo2LKeu"
      }
    },
    {
      "cell_type": "code",
      "source": [
        "client.set.default_space(space_uid)"
      ],
      "metadata": {
        "id": "159lh9VbLGvs"
      },
      "execution_count": null,
      "outputs": []
    },
    {
      "cell_type": "markdown",
      "source": [
        "'SUCCESS'"
      ],
      "metadata": {
        "id": "rC-_dcyfLbGJ"
      }
    },
    {
      "cell_type": "code",
      "source": [
        "client.repository.download(\"97d463b1-45ee-47f7-b8af-aed338794ce1\", 'DigitRecog_IBM_model.tar.gz')"
      ],
      "metadata": {
        "id": "6nwAXHFwLeaL"
      },
      "execution_count": null,
      "outputs": []
    },
    {
      "cell_type": "markdown",
      "source": [
        "Successfully saved model content to file: 'DigitRecog_IBM_model.tar.gz'"
      ],
      "metadata": {
        "id": "8XXkdCIpLjJ1"
      }
    },
    {
      "cell_type": "code",
      "source": [
        "'C:\\\\Users\\\\Dell\\\\PycharmProjects\\\\A-novel-method-for-digit-recognition-system/DigitRecog_IBM_model.tar.gz'"
      ],
      "metadata": {
        "id": "IM8a_7BPLn5B"
      },
      "execution_count": null,
      "outputs": []
    },
    {
      "cell_type": "code",
      "source": [],
      "metadata": {
        "id": "bjpyik8SLrga"
      },
      "execution_count": null,
      "outputs": []
    }
  ]
}