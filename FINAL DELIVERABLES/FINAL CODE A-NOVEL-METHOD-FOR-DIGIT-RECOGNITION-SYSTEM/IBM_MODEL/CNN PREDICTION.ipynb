{
  "nbformat": 4,
  "nbformat_minor": 0,
  "metadata": {
    "colab": {
      "provenance": []
    },
    "kernelspec": {
      "name": "python3",
      "display_name": "Python 3"
    },
    "language_info": {
      "name": "python"
    }
  },
  "cells": [
    {
      "cell_type": "code",
      "execution_count": 1,
      "metadata": {
        "id": "kf0nWjtw1FPa"
      },
      "outputs": [],
      "source": [
        "from tensorflow.keras.models import load_model\n",
        "from keras.preprocessing import image\n",
        "from PIL import Image\n",
        "import numpy as np"
      ]
    },
    {
      "cell_type": "code",
      "source": [
        "model = load_model(\"/content/mnistCNN (1).h5\")"
      ],
      "metadata": {
        "id": "0fENPloS1MJT"
      },
      "execution_count": 5,
      "outputs": []
    },
    {
      "cell_type": "code",
      "source": [
        "img = Image.open(\"C:/Users/Dell/PycharmProjects/A-novel-method-for-digit-recognition-system/data/1.png\").convert(\"L\") # convert image to monochrome\n",
        "img = img.resize( (28,28) ) # resizing of input image"
      ],
      "metadata": {
        "id": "C8r_Zbma2qAw"
      },
      "execution_count": null,
      "outputs": []
    },
    {
      "cell_type": "code",
      "source": [
        "img"
      ],
      "metadata": {
        "id": "2Qo7ww1T2jwp"
      },
      "execution_count": null,
      "outputs": []
    },
    {
      "cell_type": "markdown",
      "source": [
        "![out.png](data:image/png;base64,iVBORw0KGgoAAAANSUhEUgAAABwAAAAcCAAAAABXZoBIAAAA70lEQVR4nGNgGGSAEZXLLsjw/dN/7EpZIy9c6uXFLsdseun/3z1CcD4LQhcXh2aNNsP3Q98xJXk8XbSUxJkYvp/6hekwi6f/////////a1dmTJ2/3rH9+8sgzIasAyb5/1qS0J+fvNXWTKzYnMrIzMQktOzfp3wOLK79/5eBgVGYkZEToZ4J1aP8DAysjDgkGRgZGJHsRJNkYGBkw6kTFaBK/v/P8PvBXxySrKwMP+/8wS7JKC/HwMyBw87/P74xcFqwYZdkePWCgUWGGYekpAwDmy47nMuCIvn1+ocf1xCuRU1gLMIsf799xpHA0AAAw6k+xYQRXAkAAAAASUVORK5CYII=)"
      ],
      "metadata": {
        "id": "U7_swVqo28Dj"
      }
    },
    {
      "cell_type": "code",
      "source": [
        "im2arr = np.array(img) #converting to image\n",
        "im2arr = im2arr.reshape(1, 28, 28, 1) #reshaping according to our requirement"
      ],
      "metadata": {
        "id": "rqml1N6G3IxG"
      },
      "execution_count": null,
      "outputs": []
    },
    {
      "cell_type": "code",
      "source": [
        "pred = model.predict(im2arr)\n",
        "print(pred)"
      ],
      "metadata": {
        "id": "yChezacd3Giq"
      },
      "execution_count": null,
      "outputs": []
    },
    {
      "cell_type": "code",
      "source": [
        "1/1 [==============================] - 0s 182ms/step\n",
        "[[2.5381066e-09 4.9758598e-01 6.5878254e-07 3.7901787e-06 5.3061078e-05\n",
        "  2.5423644e-06 2.0804979e-10 9.8954014e-02 1.2672696e-03 4.0213263e-01]]"
      ],
      "metadata": {
        "id": "W0SzWuGA3UMy"
      },
      "execution_count": null,
      "outputs": []
    },
    {
      "cell_type": "code",
      "source": [
        "num = np.argmax(pred, axis=1) #printing our Labels\n",
        "print(num[0])"
      ],
      "metadata": {
        "id": "_iOQmquC3njE"
      },
      "execution_count": null,
      "outputs": []
    },
    {
      "cell_type": "markdown",
      "source": [
        "1"
      ],
      "metadata": {
        "id": "mJOBieF-3sw-"
      }
    }
  ]
}