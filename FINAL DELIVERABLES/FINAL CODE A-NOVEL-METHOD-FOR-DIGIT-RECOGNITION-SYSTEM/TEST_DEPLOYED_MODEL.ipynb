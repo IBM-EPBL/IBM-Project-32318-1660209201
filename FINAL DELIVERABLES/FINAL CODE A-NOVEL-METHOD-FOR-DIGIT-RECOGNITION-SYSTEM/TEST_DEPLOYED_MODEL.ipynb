{
  "nbformat": 4,
  "nbformat_minor": 0,
  "metadata": {
    "colab": {
      "provenance": []
    },
    "kernelspec": {
      "name": "python3",
      "display_name": "Python 3"
    },
    "language_info": {
      "name": "python"
    }
  },
  "cells": [
    {
      "cell_type": "markdown",
      "source": [
        "Import necessary libraries"
      ],
      "metadata": {
        "id": "SYHFf5j9J5WV"
      }
    },
    {
      "cell_type": "code",
      "source": [
        "import requests\n",
        "import numpy as np\n",
        "from PIL import Image, ImageOps\n",
        "import matplotlib.pyplot as plt"
      ],
      "metadata": {
        "id": "Cwd4b1T8J588"
      },
      "execution_count": null,
      "outputs": []
    },
    {
      "cell_type": "markdown",
      "source": [
        "Input pre-processing"
      ],
      "metadata": {
        "id": "fvPxnl9dJ8t6"
      }
    },
    {
      "cell_type": "code",
      "source": [
        "img = Image.open(f\"../sample/sample 1.png\").convert(\"L\")\n",
        "img = ImageOps.invert(img)\n",
        "img = img.resize((28, 28))\n",
        "img_arr = np.array(img)\n",
        "img_arr = img_arr / 255.0\n",
        "img_arr = img_arr.reshape(28, 28, 1)\n",
        "\n"
      ],
      "metadata": {
        "id": "vCJETXXgJ_Or"
      },
      "execution_count": null,
      "outputs": []
    },
    {
      "cell_type": "markdown",
      "source": [
        "Get results from the deployed model"
      ],
      "metadata": {
        "id": "oxlbGmcZKC2v"
      }
    },
    {
      "cell_type": "code",
      "source": [
        "API_KEY = \"\" \n",
        "\n",
        "token_response = requests.post('https://iam.cloud.ibm.com/identity/token', \n",
        "                               data={\"apikey\": API_KEY, \"grant_type\": 'urn:ibm:params:oauth:grant-type:apikey'})\n",
        "\n",
        "mltoken = token_response.json()[\"access_token\"]\n",
        "\n",
        "header = {'Content-Type': 'application/json', 'Authorization': 'Bearer ' + mltoken}\n",
        "\n",
        "payload_scoring = {\"input_data\": [{\"fields\": [], \"values\": [img_arr.tolist(), img2_arr.tolist(), img3_arr.tolist()]}]}\n",
        "\n",
        "response_scoring = requests.post('https://us-south.ml.cloud.ibm.com/ml/v4/deployments/ae43e79c-1fbc-450a-b0b4-9a54c451033b/predictions?version=2022-11-10', \n",
        "                                 json=payload_scoring, headers={'Authorization': 'Bearer ' + mltoken})"
      ],
      "metadata": {
        "id": "5N2WDFVoKGHh"
      },
      "execution_count": null,
      "outputs": []
    },
    {
      "cell_type": "markdown",
      "source": [
        "Display results"
      ],
      "metadata": {
        "id": "DUmoTp3wKPj9"
      }
    },
    {
      "cell_type": "code",
      "source": [
        "plt.imshow(plt.imread(\"../sample/sample 1.png\"))\n",
        "plt.axis('off')\n",
        "plt.show()\n",
        "print(\"Result: \", response_scoring.json()['predictions'][0]['values'][0][1])"
      ],
      "metadata": {
        "id": "Y7aFqYaYKQw_"
      },
      "execution_count": null,
      "outputs": []
    },
    {
      "cell_type": "markdown",
      "source": [
        "![download.png](data:image/png;base64,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)"
      ],
      "metadata": {
        "id": "pY-bdzwnKlGh"
      }
    },
    {
      "cell_type": "markdown",
      "source": [
        "RESULT 2"
      ],
      "metadata": {
        "id": "eiwKUDICKu4F"
      }
    }
  ]
}