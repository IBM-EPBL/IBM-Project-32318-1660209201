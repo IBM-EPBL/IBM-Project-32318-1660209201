{
  "nbformat": 4,
  "nbformat_minor": 0,
  "metadata": {
    "colab": {
      "provenance": []
    },
    "kernelspec": {
      "name": "python3",
      "display_name": "Python 3"
    },
    "language_info": {
      "name": "python"
    }
  },
  "cells": [
    {
      "cell_type": "markdown",
      "source": [
        "Importing the required libraries"
      ],
      "metadata": {
        "id": "3um_uMGfsd_Q"
      }
    },
    {
      "cell_type": "code",
      "source": [
        "import numpy\n",
        "import tensorflow #open source used for both ML and DL for computation\n",
        "from tensorflow.keras.datasets import mnist #mnist dataset\n",
        "from tensorflow.keras.models import Sequential #it is a plain stack of layers\n",
        "from tensorflow.keras import layers #A Layer consists of a tensor- in tensor-out computat ion funct ion\n",
        "from tensorflow.keras.layers import Dense, Flatten #Dense-Dense Layer is the regular deeply connected r\n",
        "#faltten -used fot flattening the input or change the dimension\n",
        "from tensorflow.keras.layers import Conv2D #onvoLutiona l Layer\n",
        "from keras.optimizers import Adam #opt imizer\n",
        "from keras. utils import np_utils #used for one-hot encoding\n",
        "import matplotlib.pyplot as plt   #used for data visualization"
      ],
      "metadata": {
        "id": "WHRdOxitsf9B"
      },
      "execution_count": 1,
      "outputs": []
    },
    {
      "cell_type": "markdown",
      "source": [
        "load data"
      ],
      "metadata": {
        "id": "3-HCpkd5snJs"
      }
    },
    {
      "cell_type": "code",
      "source": [
        "(x_train, y_train), (x_test, y_test)=mnist.load_data () #splitting the mnist data into train and test"
      ],
      "metadata": {
        "colab": {
          "base_uri": "https://localhost:8080/"
        },
        "id": "bL7zqSEmsip1",
        "outputId": "96e5d2ce-5e17-4b2c-be54-ee386c699f3b"
      },
      "execution_count": 2,
      "outputs": [
        {
          "output_type": "stream",
          "name": "stdout",
          "text": [
            "Downloading data from https://storage.googleapis.com/tensorflow/tf-keras-datasets/mnist.npz\n",
            "11490434/11490434 [==============================] - 0s 0us/step\n"
          ]
        }
      ]
    },
    {
      "cell_type": "code",
      "source": [
        "print (x_train.shape)  #shape is used for give the dimens ion values #60000-rows 28x28-pixels\n",
        "print (x_test.shape)"
      ],
      "metadata": {
        "colab": {
          "base_uri": "https://localhost:8080/"
        },
        "id": "a4Jaofhmsr87",
        "outputId": "824dd079-6d4d-4b27-b319-7068f77ab859"
      },
      "execution_count": 3,
      "outputs": [
        {
          "output_type": "stream",
          "name": "stdout",
          "text": [
            "(60000, 28, 28)\n",
            "(10000, 28, 28)\n"
          ]
        }
      ]
    },
    {
      "cell_type": "code",
      "source": [
        "x_train[0]"
      ],
      "metadata": {
        "colab": {
          "base_uri": "https://localhost:8080/"
        },
        "id": "2tFCUAebsxyr",
        "outputId": "f967aebd-e77f-4a5c-80b1-e992d03a863f"
      },
      "execution_count": 4,
      "outputs": [
        {
          "output_type": "execute_result",
          "data": {
            "text/plain": [
              "array([[  0,   0,   0,   0,   0,   0,   0,   0,   0,   0,   0,   0,   0,\n",
              "          0,   0,   0,   0,   0,   0,   0,   0,   0,   0,   0,   0,   0,\n",
              "          0,   0],\n",
              "       [  0,   0,   0,   0,   0,   0,   0,   0,   0,   0,   0,   0,   0,\n",
              "          0,   0,   0,   0,   0,   0,   0,   0,   0,   0,   0,   0,   0,\n",
              "          0,   0],\n",
              "       [  0,   0,   0,   0,   0,   0,   0,   0,   0,   0,   0,   0,   0,\n",
              "          0,   0,   0,   0,   0,   0,   0,   0,   0,   0,   0,   0,   0,\n",
              "          0,   0],\n",
              "       [  0,   0,   0,   0,   0,   0,   0,   0,   0,   0,   0,   0,   0,\n",
              "          0,   0,   0,   0,   0,   0,   0,   0,   0,   0,   0,   0,   0,\n",
              "          0,   0],\n",
              "       [  0,   0,   0,   0,   0,   0,   0,   0,   0,   0,   0,   0,   0,\n",
              "          0,   0,   0,   0,   0,   0,   0,   0,   0,   0,   0,   0,   0,\n",
              "          0,   0],\n",
              "       [  0,   0,   0,   0,   0,   0,   0,   0,   0,   0,   0,   0,   3,\n",
              "         18,  18,  18, 126, 136, 175,  26, 166, 255, 247, 127,   0,   0,\n",
              "          0,   0],\n",
              "       [  0,   0,   0,   0,   0,   0,   0,   0,  30,  36,  94, 154, 170,\n",
              "        253, 253, 253, 253, 253, 225, 172, 253, 242, 195,  64,   0,   0,\n",
              "          0,   0],\n",
              "       [  0,   0,   0,   0,   0,   0,   0,  49, 238, 253, 253, 253, 253,\n",
              "        253, 253, 253, 253, 251,  93,  82,  82,  56,  39,   0,   0,   0,\n",
              "          0,   0],\n",
              "       [  0,   0,   0,   0,   0,   0,   0,  18, 219, 253, 253, 253, 253,\n",
              "        253, 198, 182, 247, 241,   0,   0,   0,   0,   0,   0,   0,   0,\n",
              "          0,   0],\n",
              "       [  0,   0,   0,   0,   0,   0,   0,   0,  80, 156, 107, 253, 253,\n",
              "        205,  11,   0,  43, 154,   0,   0,   0,   0,   0,   0,   0,   0,\n",
              "          0,   0],\n",
              "       [  0,   0,   0,   0,   0,   0,   0,   0,   0,  14,   1, 154, 253,\n",
              "         90,   0,   0,   0,   0,   0,   0,   0,   0,   0,   0,   0,   0,\n",
              "          0,   0],\n",
              "       [  0,   0,   0,   0,   0,   0,   0,   0,   0,   0,   0, 139, 253,\n",
              "        190,   2,   0,   0,   0,   0,   0,   0,   0,   0,   0,   0,   0,\n",
              "          0,   0],\n",
              "       [  0,   0,   0,   0,   0,   0,   0,   0,   0,   0,   0,  11, 190,\n",
              "        253,  70,   0,   0,   0,   0,   0,   0,   0,   0,   0,   0,   0,\n",
              "          0,   0],\n",
              "       [  0,   0,   0,   0,   0,   0,   0,   0,   0,   0,   0,   0,  35,\n",
              "        241, 225, 160, 108,   1,   0,   0,   0,   0,   0,   0,   0,   0,\n",
              "          0,   0],\n",
              "       [  0,   0,   0,   0,   0,   0,   0,   0,   0,   0,   0,   0,   0,\n",
              "         81, 240, 253, 253, 119,  25,   0,   0,   0,   0,   0,   0,   0,\n",
              "          0,   0],\n",
              "       [  0,   0,   0,   0,   0,   0,   0,   0,   0,   0,   0,   0,   0,\n",
              "          0,  45, 186, 253, 253, 150,  27,   0,   0,   0,   0,   0,   0,\n",
              "          0,   0],\n",
              "       [  0,   0,   0,   0,   0,   0,   0,   0,   0,   0,   0,   0,   0,\n",
              "          0,   0,  16,  93, 252, 253, 187,   0,   0,   0,   0,   0,   0,\n",
              "          0,   0],\n",
              "       [  0,   0,   0,   0,   0,   0,   0,   0,   0,   0,   0,   0,   0,\n",
              "          0,   0,   0,   0, 249, 253, 249,  64,   0,   0,   0,   0,   0,\n",
              "          0,   0],\n",
              "       [  0,   0,   0,   0,   0,   0,   0,   0,   0,   0,   0,   0,   0,\n",
              "          0,  46, 130, 183, 253, 253, 207,   2,   0,   0,   0,   0,   0,\n",
              "          0,   0],\n",
              "       [  0,   0,   0,   0,   0,   0,   0,   0,   0,   0,   0,   0,  39,\n",
              "        148, 229, 253, 253, 253, 250, 182,   0,   0,   0,   0,   0,   0,\n",
              "          0,   0],\n",
              "       [  0,   0,   0,   0,   0,   0,   0,   0,   0,   0,  24, 114, 221,\n",
              "        253, 253, 253, 253, 201,  78,   0,   0,   0,   0,   0,   0,   0,\n",
              "          0,   0],\n",
              "       [  0,   0,   0,   0,   0,   0,   0,   0,  23,  66, 213, 253, 253,\n",
              "        253, 253, 198,  81,   2,   0,   0,   0,   0,   0,   0,   0,   0,\n",
              "          0,   0],\n",
              "       [  0,   0,   0,   0,   0,   0,  18, 171, 219, 253, 253, 253, 253,\n",
              "        195,  80,   9,   0,   0,   0,   0,   0,   0,   0,   0,   0,   0,\n",
              "          0,   0],\n",
              "       [  0,   0,   0,   0,  55, 172, 226, 253, 253, 253, 253, 244, 133,\n",
              "         11,   0,   0,   0,   0,   0,   0,   0,   0,   0,   0,   0,   0,\n",
              "          0,   0],\n",
              "       [  0,   0,   0,   0, 136, 253, 253, 253, 212, 135, 132,  16,   0,\n",
              "          0,   0,   0,   0,   0,   0,   0,   0,   0,   0,   0,   0,   0,\n",
              "          0,   0],\n",
              "       [  0,   0,   0,   0,   0,   0,   0,   0,   0,   0,   0,   0,   0,\n",
              "          0,   0,   0,   0,   0,   0,   0,   0,   0,   0,   0,   0,   0,\n",
              "          0,   0],\n",
              "       [  0,   0,   0,   0,   0,   0,   0,   0,   0,   0,   0,   0,   0,\n",
              "          0,   0,   0,   0,   0,   0,   0,   0,   0,   0,   0,   0,   0,\n",
              "          0,   0],\n",
              "       [  0,   0,   0,   0,   0,   0,   0,   0,   0,   0,   0,   0,   0,\n",
              "          0,   0,   0,   0,   0,   0,   0,   0,   0,   0,   0,   0,   0,\n",
              "          0,   0]], dtype=uint8)"
            ]
          },
          "metadata": {},
          "execution_count": 4
        }
      ]
    },
    {
      "cell_type": "code",
      "source": [
        "plt.imshow(x_train[6000])     #ploting the index=image"
      ],
      "metadata": {
        "colab": {
          "base_uri": "https://localhost:8080/",
          "height": 282
        },
        "id": "_U2oji5es0Q_",
        "outputId": "6df23ec2-8e33-40c5-bc88-b76800f638df"
      },
      "execution_count": 5,
      "outputs": [
        {
          "output_type": "execute_result",
          "data": {
            "text/plain": [
              "<matplotlib.image.AxesImage at 0x7fbf39d88c90>"
            ]
          },
          "metadata": {},
          "execution_count": 5
        },
        {
          "output_type": "display_data",
          "data": {
            "text/plain": [
              "<Figure size 432x288 with 1 Axes>"
            ],
            "image/png": "[encoded data removed]"
          },
          "metadata": {
            "needs_background": "light"
          }
        }
      ]
    },
    {
      "cell_type": "code",
      "source": [
        "np.argmax(y_train[6000])"
      ],
      "metadata": {
        "id": "41UMyRvLs8Xo"
      },
      "execution_count": null,
      "outputs": []
    },
    {
      "cell_type": "markdown",
      "source": [
        "0"
      ],
      "metadata": {
        "id": "iWoeNIyBtYlG"
      }
    },
    {
      "cell_type": "markdown",
      "source": [
        "Reshaping Dataset"
      ],
      "metadata": {
        "id": "ZPz20_rhtpXG"
      }
    },
    {
      "cell_type": "code",
      "source": [
        "#Reshaping to format which CNN expects (batch, height, width, channels)\n",
        "x_train=x_train.reshape (60000, 28, 28, 1).astype('float32')\n",
        "x_test=x_test.reshape (10000, 28, 28, 1).astype ('float32')"
      ],
      "metadata": {
        "id": "kjucrwEJtqMW"
      },
      "execution_count": 9,
      "outputs": []
    },
    {
      "cell_type": "markdown",
      "source": [
        "Applying One Hot Encoding"
      ],
      "metadata": {
        "id": "mTtITMxpt49v"
      }
    },
    {
      "cell_type": "code",
      "source": [
        "number_of_classes = 10  #storing the no of classes in a variable"
      ],
      "metadata": {
        "id": "atav4dn5t53C"
      },
      "execution_count": 11,
      "outputs": []
    },
    {
      "cell_type": "code",
      "source": [
        "y_train = np_utils.to_categorical (y_train, number_of_classes) #converts the output in binary format\n",
        "y_test = np_utils.to_categorical (y_test, number_of_classes)"
      ],
      "metadata": {
        "id": "JanD8vbjt8pD"
      },
      "execution_count": 12,
      "outputs": []
    },
    {
      "cell_type": "markdown",
      "source": [
        "Add CNN Layers"
      ],
      "metadata": {
        "id": "-i1eeg2rutqe"
      }
    },
    {
      "cell_type": "code",
      "source": [
        "#create model\n",
        "model=Sequential ()"
      ],
      "metadata": {
        "id": "AoZKCAYKuWCb"
      },
      "execution_count": 15,
      "outputs": []
    },
    {
      "cell_type": "code",
      "source": [
        "#adding modeL Layer\n",
        "model.add(Conv2D(64, (3, 3), input_shape=(28, 28, 1), activation='relu'))\n",
        "model.add(Conv2D(32, (3, 3), activation = 'relu'))"
      ],
      "metadata": {
        "id": "NE0FlfDEu0PI"
      },
      "execution_count": 16,
      "outputs": []
    },
    {
      "cell_type": "code",
      "source": [
        "#flatten the dimension of the image\n",
        "model.add(Flatten())"
      ],
      "metadata": {
        "id": "Lq6evWnEu4MD"
      },
      "execution_count": 17,
      "outputs": []
    },
    {
      "cell_type": "code",
      "source": [
        "#output layer with 10 neurons\n",
        "model.add(Dense(number_of_classes,activation = 'softmax'))"
      ],
      "metadata": {
        "id": "Aj23jEZ0vCqf"
      },
      "execution_count": 18,
      "outputs": []
    },
    {
      "cell_type": "markdown",
      "source": [
        "Compiling the model"
      ],
      "metadata": {
        "id": "Fphjkw68vJer"
      }
    },
    {
      "cell_type": "code",
      "source": [
        "#Compile model\n",
        "model.compile(loss= 'categorical_crossentropy', optimizer=\"Adam\", metrics=['accuracy'])"
      ],
      "metadata": {
        "id": "Lgaph8XpvKWU"
      },
      "execution_count": 19,
      "outputs": []
    },
    {
      "cell_type": "code",
      "source": [
        "x_train = np.asarray(x_train)\n",
        "y_train = np.asarray(y_train)"
      ],
      "metadata": {
        "id": "_FU_G546vQGg"
      },
      "execution_count": null,
      "outputs": []
    },
    {
      "cell_type": "markdown",
      "source": [
        "Train the model"
      ],
      "metadata": {
        "id": "Gzb0Wfehvg5w"
      }
    },
    {
      "cell_type": "code",
      "source": [
        "#fit the model\n",
        "model.fit(x_train, y_train, validation_data=(x_test, y_test), epochs=5, batch_size=32)"
      ],
      "metadata": {
        "colab": {
          "base_uri": "https://localhost:8080/"
        },
        "id": "8ez4TAFDvelt",
        "outputId": "c16b4d9e-9473-4ce0-9188-da1d0fea5b99"
      },
      "execution_count": 21,
      "outputs": [
        {
          "output_type": "stream",
          "name": "stdout",
          "text": [
            "Epoch 1/5\n",
            "1875/1875 [==============================] - 110s 58ms/step - loss: 0.1882 - accuracy: 0.9533 - val_loss: 0.0751 - val_accuracy: 0.9762\n",
            "Epoch 2/5\n",
            "1875/1875 [==============================] - 110s 59ms/step - loss: 0.0606 - accuracy: 0.9814 - val_loss: 0.0754 - val_accuracy: 0.9758\n",
            "Epoch 3/5\n",
            "1875/1875 [==============================] - 109s 58ms/step - loss: 0.0470 - accuracy: 0.9845 - val_loss: 0.0925 - val_accuracy: 0.9753\n",
            "Epoch 4/5\n",
            "1875/1875 [==============================] - 111s 59ms/step - loss: 0.0336 - accuracy: 0.9891 - val_loss: 0.0781 - val_accuracy: 0.9801\n",
            "Epoch 5/5\n",
            "1875/1875 [==============================] - 109s 58ms/step - loss: 0.0302 - accuracy: 0.9907 - val_loss: 0.1067 - val_accuracy: 0.9782\n"
          ]
        },
        {
          "output_type": "execute_result",
          "data": {
            "text/plain": [
              "<keras.callbacks.History at 0x7fbf3559ba90>"
            ]
          },
          "metadata": {},
          "execution_count": 21
        }
      ]
    },
    {
      "cell_type": "markdown",
      "source": [
        "Observing the metrics"
      ],
      "metadata": {
        "id": "iaK0KRstxt2a"
      }
    },
    {
      "cell_type": "code",
      "source": [
        "# Final evaluation of the model\n",
        "metrics = model.evaluate(x_test, y_test, verbose=0)\n",
        "print(\"Metrics (Test loss &Test Accuracy) : \")\n",
        "print(metrics)"
      ],
      "metadata": {
        "colab": {
          "base_uri": "https://localhost:8080/"
        },
        "id": "T5cZprb9xu1Z",
        "outputId": "a6c20158-3ee6-4158-95ad-fb482ded3b90"
      },
      "execution_count": 22,
      "outputs": [
        {
          "output_type": "stream",
          "name": "stdout",
          "text": [
            "Metrics (Test loss &Test Accuracy) : \n",
            "[0.10665197670459747, 0.9782000184059143]\n"
          ]
        }
      ]
    },
    {
      "cell_type": "markdown",
      "source": [
        "Test The Model"
      ],
      "metadata": {
        "id": "K-YRhfXMx1zq"
      }
    },
    {
      "cell_type": "code",
      "source": [
        "prediction=model.predict(x_test[6000:6001])\n",
        "print(prediction)"
      ],
      "metadata": {
        "colab": {
          "base_uri": "https://localhost:8080/"
        },
        "id": "qf91fK_ax2w-",
        "outputId": "b6f702f9-938b-4d4c-b99f-5eaed7af0192"
      },
      "execution_count": 23,
      "outputs": [
        {
          "output_type": "stream",
          "name": "stdout",
          "text": [
            "1/1 [==============================] - 0s 71ms/step\n",
            "[[3.5662453e-18 1.3220488e-22 5.7828655e-20 3.6040473e-10 6.7578981e-10\n",
            "  7.9998215e-13 7.8929150e-19 1.9612942e-12 2.1346503e-11 1.0000000e+00]]\n"
          ]
        }
      ]
    },
    {
      "cell_type": "code",
      "source": [
        "plt.imshow(x_test[6000])"
      ],
      "metadata": {
        "id": "kkdpDXBCyAfP"
      },
      "execution_count": null,
      "outputs": []
    },
    {
      "cell_type": "markdown",
      "source": [
        "![out.png](data:image/png;base64,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)"
      ],
      "metadata": {
        "id": "FJ7bxvXsyVRX"
      }
    },
    {
      "cell_type": "code",
      "source": [
        "import numpy as np\n",
        "print(np.argmax(prediction, axis=1)) #printing our Labels from first 4 images"
      ],
      "metadata": {
        "colab": {
          "base_uri": "https://localhost:8080/"
        },
        "id": "xWliTbEkywVq",
        "outputId": "522dee15-e721-47e1-ed95-f3176a608890"
      },
      "execution_count": 27,
      "outputs": [
        {
          "output_type": "stream",
          "name": "stdout",
          "text": [
            "[9]\n"
          ]
        }
      ]
    },
    {
      "cell_type": "markdown",
      "source": [
        "Save The model"
      ],
      "metadata": {
        "id": "Y-OIe8ZDy5Uz"
      }
    },
    {
      "cell_type": "code",
      "source": [
        "# Save the model\n",
        "model.save('models/mnistCNN.h5')"
      ],
      "metadata": {
        "id": "ISOneam4y1pX"
      },
      "execution_count": 28,
      "outputs": []
    }
  ]
}